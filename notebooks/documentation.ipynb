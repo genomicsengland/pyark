{
 "cells": [
  {
   "cell_type": "markdown",
   "metadata": {},
   "source": [
    "# The CVA Python client: pyark\n",
    "\n",
    "Pyark is a python client to the Clinical Variant Ark (CVA) REST API [https://github.com/genomicsengland/clinical_variant_ark](https://github.com/genomicsengland/clinical_variant_ark). This documentation is intended as a guide to the REST API too, every call to the client builds a number of REST calls to the backend behind the scenes and those URLs are shown below.\n",
    "\n",
    "This guide does not intend to cover the whole API but just three particular use cases: having a shallow overview of the content in the database, select a  case following certain criteria and explore all the available data about a given case. More complex analysis can be done using pyark, but these are not shown here."
   ]
  },
  {
   "cell_type": "markdown",
   "metadata": {},
   "source": [
    "## Makes all necessary imports and initialise the Python CVA client\n",
    "\n",
    "NOTE: it is handy to set the log level to INFO in order to see the times that each query takes and see how the URL is built.\n",
    "\n",
    "The client gets a token and renews it if necessary behind the scenes."
   ]
  },
  {
   "cell_type": "code",
   "execution_count": 1,
   "metadata": {},
   "outputs": [],
   "source": [
    "from pyark.cva_client import CvaClient\n",
    "from protocols.reports_5_0_0 import Program, Tier\n",
    "from protocols.cva_1_0_0 import ReportEventType\n",
    "from collections import defaultdict, OrderedDict\n",
    "import getpass\n",
    "import logging\n",
    "import pandas as pd"
   ]
  },
  {
   "cell_type": "code",
   "execution_count": 2,
   "metadata": {},
   "outputs": [
    {
     "name": "stdout",
     "output_type": "stream",
     "text": [
      "Username: ········\n",
      "Password: ········\n"
     ]
    },
    {
     "name": "stderr",
     "output_type": "stream",
     "text": [
      "INFO:root:2018-08-05 09:43:46.711710 POST http://localhost:8080/cva/api/0/authentication? Accept=application/json\n",
      "INFO:root:Response time : 305 ms\n"
     ]
    }
   ],
   "source": [
    "# sets logging messages so the URLs that are called get printed\n",
    "logging.basicConfig(level=logging.INFO)\n",
    "\n",
    "# initialise CVA client and subclients\n",
    "user = getpass.getpass(\"Username: \")\n",
    "password = getpass.getpass(\"Password: \")\n",
    "url = \"http://localhost:8080\"\n",
    "cva = CvaClient(url_base=url, user=user, password=password)\n",
    "cases_client = cva.cases()\n",
    "pedigrees_client = cva.pedigrees()\n",
    "panels_client = cva.panels()\n",
    "variants_client = cva.variants()\n",
    "report_events_client = cva.report_events()\n",
    "transactions_client = cva.transactions()"
   ]
  },
  {
   "cell_type": "markdown",
   "metadata": {},
   "source": [
    "## Count number of elements in the database\n",
    "\n",
    "The main elements in CVA are:\n",
    "* Report Events\n",
    "* Cases\n",
    "* Variants"
   ]
  },
  {
   "cell_type": "code",
   "execution_count": 3,
   "metadata": {},
   "outputs": [
    {
     "name": "stderr",
     "output_type": "stream",
     "text": [
      "INFO:root:2018-08-05 09:43:47.144482 GET http://localhost:8080/cva/api/0/report-events?count=True Server=Apache-Coyote/1.1, Access-Control-Allow-Origin=*, Access-Control-Allow-Headers=x-requested-with, content-type, Access-Control-Allow-Credentials=true, Access-Control-Allow-Methods=GET, POST, OPTIONS, Content-Type=application/json, Content-Length=277, Date=Sun, 05 Aug 2018 08:43:47 GMT\n",
      "INFO:root:Response time : 65 ms\n"
     ]
    },
    {
     "data": {
      "text/plain": [
       "191371"
      ]
     },
     "execution_count": 3,
     "metadata": {},
     "output_type": "execute_result"
    }
   ],
   "source": [
    "# count the total number of report events\n",
    "report_events_client.count_report_events()"
   ]
  },
  {
   "cell_type": "code",
   "execution_count": 4,
   "metadata": {},
   "outputs": [
    {
     "name": "stderr",
     "output_type": "stream",
     "text": [
      "INFO:root:2018-08-05 09:43:47.203411 GET http://localhost:8080/cva/api/0/report-events?count=True&panel_name=cakut&program=rare_disease&families=1&families=2 Server=Apache-Coyote/1.1, Access-Control-Allow-Origin=*, Access-Control-Allow-Headers=x-requested-with, content-type, Access-Control-Allow-Credentials=true, Access-Control-Allow-Methods=GET, POST, OPTIONS, Content-Type=application/json, Content-Length=272, Date=Sun, 05 Aug 2018 08:43:47 GMT\n",
      "INFO:root:Response time : 23 ms\n"
     ]
    },
    {
     "data": {
      "text/plain": [
       "0"
      ]
     },
     "execution_count": 4,
     "metadata": {},
     "output_type": "execute_result"
    }
   ],
   "source": [
    "# count the number of report events with a certain criteria\n",
    "report_events_client.count_report_events(\n",
    "    params={'program':Program.rare_disease, 'panel_name':\"cakut\", 'families':['1', '2']})"
   ]
  },
  {
   "cell_type": "code",
   "execution_count": 5,
   "metadata": {},
   "outputs": [
    {
     "name": "stderr",
     "output_type": "stream",
     "text": [
      "INFO:root:2018-08-05 09:43:47.251949 GET http://localhost:8080/cva/api/0/cases?count=True Server=Apache-Coyote/1.1, Access-Control-Allow-Origin=*, Access-Control-Allow-Headers=x-requested-with, content-type, Access-Control-Allow-Credentials=true, Access-Control-Allow-Methods=GET, POST, OPTIONS, Content-Type=application/json, Content-Length=275, Date=Sun, 05 Aug 2018 08:43:47 GMT\n",
      "INFO:root:Response time : 21 ms\n"
     ]
    },
    {
     "data": {
      "text/plain": [
       "1410"
      ]
     },
     "execution_count": 5,
     "metadata": {},
     "output_type": "execute_result"
    }
   ],
   "source": [
    "cases_client.count_cases()"
   ]
  },
  {
   "cell_type": "code",
   "execution_count": 6,
   "metadata": {},
   "outputs": [
    {
     "name": "stderr",
     "output_type": "stream",
     "text": [
      "INFO:root:2018-08-05 09:43:47.303665 GET http://localhost:8080/cva/api/0/cases?count=True&panel_name=intellectual disability&program=rare_disease Server=Apache-Coyote/1.1, Access-Control-Allow-Origin=*, Access-Control-Allow-Headers=x-requested-with, content-type, Access-Control-Allow-Credentials=true, Access-Control-Allow-Methods=GET, POST, OPTIONS, Content-Type=application/json, Content-Length=274, Date=Sun, 05 Aug 2018 08:43:47 GMT\n",
      "INFO:root:Response time : 22 ms\n"
     ]
    },
    {
     "data": {
      "text/plain": [
       "107"
      ]
     },
     "execution_count": 6,
     "metadata": {},
     "output_type": "execute_result"
    }
   ],
   "source": [
    "# NOTE: this count is wrong because the test database needs reloading with the latest version\n",
    "cases_client.count_cases(params={'program':Program.rare_disease, 'panel_name':\"intellectual disability\"})"
   ]
  },
  {
   "cell_type": "code",
   "execution_count": 7,
   "metadata": {},
   "outputs": [
    {
     "name": "stderr",
     "output_type": "stream",
     "text": [
      "INFO:root:2018-08-05 09:43:47.361899 GET http://localhost:8080/cva/api/0/variants?count=True Server=Apache-Coyote/1.1, Access-Control-Allow-Origin=*, Access-Control-Allow-Headers=x-requested-with, content-type, Access-Control-Allow-Credentials=true, Access-Control-Allow-Methods=GET, POST, OPTIONS, Content-Type=application/json, Content-Length=276, Date=Sun, 05 Aug 2018 08:43:47 GMT\n",
      "INFO:root:Response time : 22 ms\n"
     ]
    },
    {
     "data": {
      "text/plain": [
       "70261"
      ]
     },
     "execution_count": 7,
     "metadata": {},
     "output_type": "execute_result"
    }
   ],
   "source": [
    "variants_client.count_variants()"
   ]
  },
  {
   "cell_type": "markdown",
   "metadata": {},
   "source": [
    "## Iterate through elements using pagination\n",
    "\n",
    "The default page size is 200, but it can be configured using the `limit` parameter.\n",
    "Pagination happens automatically using pyark, but if making raw REST queries the required coordinates for the next page are in the header of the response in the fields:\n",
    "* `X-Pagination-Limit`\n",
    "* `X-Pagination-Marker`\n",
    "\n",
    "To fetch the next page, these attributes must be passed in the query parameter `limit` and `marker` respectively.\n",
    "\n"
   ]
  },
  {
   "cell_type": "code",
   "execution_count": 8,
   "metadata": {},
   "outputs": [
    {
     "name": "stderr",
     "output_type": "stream",
     "text": [
      "INFO:root:2018-08-05 09:43:48.384738 GET http://localhost:8080/cva/api/0/report-events?program=rare_disease&limit=3&only_latest=True Server=Apache-Coyote/1.1, Link=<?limit=3&marker=00029463-0b5c-4d88-980d-d40fd17d2f0c>; rel=\"next\", X-Pagination-Limit=3, X-Pagination-Marker=00029463-0b5c-4d88-980d-d40fd17d2f0c, Access-Control-Allow-Origin=*, Access-Control-Allow-Headers=x-requested-with, content-type, Access-Control-Allow-Credentials=true, Access-Control-Allow-Methods=GET, POST, OPTIONS, Content-Type=application/json, Content-Length=6052, Date=Sun, 05 Aug 2018 08:43:48 GMT\n",
      "INFO:root:Response time : 991 ms\n",
      "INFO:root:2018-08-05 09:43:49.649474 GET http://localhost:8080/cva/api/0/report-events?marker=00029463-0b5c-4d88-980d-d40fd17d2f0c&program=rare_disease&limit=3&only_latest=True Server=Apache-Coyote/1.1, Link=<?limit=3&marker=0003a920-d99a-418a-9667-477b1cf4e974>; rel=\"next\", X-Pagination-Limit=3, X-Pagination-Marker=0003a920-d99a-418a-9667-477b1cf4e974, Access-Control-Allow-Origin=*, Access-Control-Allow-Headers=x-requested-with, content-type, Access-Control-Allow-Credentials=true, Access-Control-Allow-Methods=GET, POST, OPTIONS, Content-Type=application/json, Content-Length=6104, Date=Sun, 05 Aug 2018 08:43:49 GMT\n",
      "INFO:root:Response time : 1254 ms\n"
     ]
    }
   ],
   "source": [
    "# create an iterator for the report events\n",
    "report_events = report_events_client.get_report_events(\n",
    "    params={'program':Program.rare_disease, 'only_latest':True, 'limit':3})\n",
    "\n",
    "# iterate through the first 5\n",
    "i = 0\n",
    "for report_event in report_events:\n",
    "    i+=1\n",
    "    if i == 5:\n",
    "        break"
   ]
  },
  {
   "cell_type": "code",
   "execution_count": 9,
   "metadata": {},
   "outputs": [
    {
     "name": "stderr",
     "output_type": "stream",
     "text": [
      "INFO:root:2018-08-05 09:43:49.830657 GET http://localhost:8080/cva/api/0/cases?program=rare_disease&limit=3 Server=Apache-Coyote/1.1, Link=<?limit=3&marker=00493124-4895-4c96-b7ce-1bba4c0a50bb>; rel=\"next\", X-Pagination-Limit=3, X-Pagination-Marker=00493124-4895-4c96-b7ce-1bba4c0a50bb, Access-Control-Allow-Origin=*, Access-Control-Allow-Headers=x-requested-with, content-type, Access-Control-Allow-Credentials=true, Access-Control-Allow-Methods=GET, POST, OPTIONS, Content-Type=application/json, Transfer-Encoding=chunked, Date=Sun, 05 Aug 2018 08:43:49 GMT\n",
      "INFO:root:Response time : 119 ms\n",
      "INFO:root:2018-08-05 09:43:49.905947 GET http://localhost:8080/cva/api/0/cases?marker=00493124-4895-4c96-b7ce-1bba4c0a50bb&program=rare_disease&limit=3 Server=Apache-Coyote/1.1, Link=<?limit=3&marker=009cf630-c17b-482b-b363-47179eb3e845>; rel=\"next\", X-Pagination-Limit=3, X-Pagination-Marker=009cf630-c17b-482b-b363-47179eb3e845, Access-Control-Allow-Origin=*, Access-Control-Allow-Headers=x-requested-with, content-type, Access-Control-Allow-Credentials=true, Access-Control-Allow-Methods=GET, POST, OPTIONS, Content-Type=application/json, Transfer-Encoding=chunked, Date=Sun, 05 Aug 2018 08:43:49 GMT\n",
      "INFO:root:Response time : 63 ms\n"
     ]
    }
   ],
   "source": [
    "# create an iterator for the cases\n",
    "cases = cases_client.get_cases(params={'program':Program.rare_disease, 'limit':3})\n",
    "\n",
    "# iterate through the first 5\n",
    "i = 0\n",
    "for case in cases:\n",
    "    i+=1\n",
    "    if i == 5:\n",
    "        break"
   ]
  },
  {
   "cell_type": "markdown",
   "metadata": {},
   "source": [
    "## Summary of cases\n",
    "\n",
    "The case is the main entity in CVA to summarise data. It is possible to create summaries filtering by certain criteria."
   ]
  },
  {
   "cell_type": "code",
   "execution_count": 10,
   "metadata": {},
   "outputs": [
    {
     "name": "stderr",
     "output_type": "stream",
     "text": [
      "INFO:root:2018-08-05 09:43:49.981997 GET http://localhost:8080/cva/api/0/cases/summary?program=rare_disease Server=Apache-Coyote/1.1, Access-Control-Allow-Origin=*, Access-Control-Allow-Headers=x-requested-with, content-type, Access-Control-Allow-Credentials=true, Access-Control-Allow-Methods=GET, POST, OPTIONS, Content-Type=application/json, Content-Length=1547, Date=Sun, 05 Aug 2018 08:43:49 GMT\n",
      "INFO:root:Response time : 51 ms\n"
     ]
    },
    {
     "data": {
      "text/html": [
       "<div>\n",
       "<style scoped>\n",
       "    .dataframe tbody tr th:only-of-type {\n",
       "        vertical-align: middle;\n",
       "    }\n",
       "\n",
       "    .dataframe tbody tr th {\n",
       "        vertical-align: top;\n",
       "    }\n",
       "\n",
       "    .dataframe thead th {\n",
       "        text-align: right;\n",
       "    }\n",
       "</style>\n",
       "<table border=\"1\" class=\"dataframe\">\n",
       "  <thead>\n",
       "    <tr style=\"text-align: right;\">\n",
       "      <th></th>\n",
       "      <th>avg_participants</th>\n",
       "      <th>avg_questionnaire_benign</th>\n",
       "      <th>avg_questionnaire_likely_benign</th>\n",
       "      <th>avg_questionnaire_likely_pathogenic</th>\n",
       "      <th>avg_questionnaire_na</th>\n",
       "      <th>avg_questionnaire_pathogenic</th>\n",
       "      <th>avg_questionnaire_vus</th>\n",
       "      <th>avg_reported</th>\n",
       "      <th>avg_reported_tier1</th>\n",
       "      <th>avg_reported_tier2</th>\n",
       "      <th>...</th>\n",
       "      <th>count_questionnaire_vus</th>\n",
       "      <th>count_reported</th>\n",
       "      <th>count_reported_tier1</th>\n",
       "      <th>count_reported_tier2</th>\n",
       "      <th>count_reported_tier3</th>\n",
       "      <th>count_reported_untiered</th>\n",
       "      <th>count_samples</th>\n",
       "      <th>count_tier1</th>\n",
       "      <th>count_tier2</th>\n",
       "      <th>count_tier3</th>\n",
       "    </tr>\n",
       "  </thead>\n",
       "  <tbody>\n",
       "    <tr>\n",
       "      <th>0</th>\n",
       "      <td>2.060222</td>\n",
       "      <td>0.0</td>\n",
       "      <td>0.006339</td>\n",
       "      <td>0.07607</td>\n",
       "      <td>0.019017</td>\n",
       "      <td>0.160063</td>\n",
       "      <td>0.082409</td>\n",
       "      <td>0.413629</td>\n",
       "      <td>0.131537</td>\n",
       "      <td>0.155309</td>\n",
       "      <td>...</td>\n",
       "      <td>52</td>\n",
       "      <td>261</td>\n",
       "      <td>83</td>\n",
       "      <td>98</td>\n",
       "      <td>81</td>\n",
       "      <td>40</td>\n",
       "      <td>1299</td>\n",
       "      <td>116</td>\n",
       "      <td>420</td>\n",
       "      <td>117779</td>\n",
       "    </tr>\n",
       "  </tbody>\n",
       "</table>\n",
       "<p>1 rows × 40 columns</p>\n",
       "</div>"
      ],
      "text/plain": [
       "   avg_participants  avg_questionnaire_benign  \\\n",
       "0          2.060222                       0.0   \n",
       "\n",
       "   avg_questionnaire_likely_benign  avg_questionnaire_likely_pathogenic  \\\n",
       "0                         0.006339                              0.07607   \n",
       "\n",
       "   avg_questionnaire_na  avg_questionnaire_pathogenic  avg_questionnaire_vus  \\\n",
       "0              0.019017                      0.160063               0.082409   \n",
       "\n",
       "   avg_reported  avg_reported_tier1  avg_reported_tier2     ...       \\\n",
       "0      0.413629            0.131537            0.155309     ...        \n",
       "\n",
       "   count_questionnaire_vus  count_reported  count_reported_tier1  \\\n",
       "0                       52             261                    83   \n",
       "\n",
       "   count_reported_tier2  count_reported_tier3  count_reported_untiered  \\\n",
       "0                    98                    81                       40   \n",
       "\n",
       "   count_samples  count_tier1  count_tier2  count_tier3  \n",
       "0           1299          116          420       117779  \n",
       "\n",
       "[1 rows x 40 columns]"
      ]
     },
     "execution_count": 10,
     "metadata": {},
     "output_type": "execute_result"
    }
   ],
   "source": [
    "cases_client.get_summary({'program':Program.rare_disease}, as_data_frame=True)"
   ]
  },
  {
   "cell_type": "code",
   "execution_count": 11,
   "metadata": {},
   "outputs": [
    {
     "name": "stderr",
     "output_type": "stream",
     "text": [
      "INFO:root:2018-08-05 09:43:50.088764 GET http://localhost:8080/cva/api/0/cases/summary?program=rare_disease&num_samples=1 Server=Apache-Coyote/1.1, Access-Control-Allow-Origin=*, Access-Control-Allow-Headers=x-requested-with, content-type, Access-Control-Allow-Credentials=true, Access-Control-Allow-Methods=GET, POST, OPTIONS, Content-Type=application/json, Content-Length=1508, Date=Sun, 05 Aug 2018 08:43:49 GMT\n",
      "INFO:root:Response time : 44 ms\n",
      "INFO:root:2018-08-05 09:43:50.134716 GET http://localhost:8080/cva/api/0/cases/summary?program=rare_disease&num_samples=2 Server=Apache-Coyote/1.1, Access-Control-Allow-Origin=*, Access-Control-Allow-Headers=x-requested-with, content-type, Access-Control-Allow-Credentials=true, Access-Control-Allow-Methods=GET, POST, OPTIONS, Content-Type=application/json, Content-Length=1496, Date=Sun, 05 Aug 2018 08:43:49 GMT\n",
      "INFO:root:Response time : 34 ms\n",
      "INFO:root:2018-08-05 09:43:50.192346 GET http://localhost:8080/cva/api/0/cases/summary?program=rare_disease&num_samples=3 Server=Apache-Coyote/1.1, Access-Control-Allow-Origin=*, Access-Control-Allow-Headers=x-requested-with, content-type, Access-Control-Allow-Credentials=true, Access-Control-Allow-Methods=GET, POST, OPTIONS, Content-Type=application/json, Content-Length=1384, Date=Sun, 05 Aug 2018 08:43:49 GMT\n",
      "INFO:root:Response time : 37 ms\n"
     ]
    },
    {
     "data": {
      "text/html": [
       "<div>\n",
       "<style scoped>\n",
       "    .dataframe tbody tr th:only-of-type {\n",
       "        vertical-align: middle;\n",
       "    }\n",
       "\n",
       "    .dataframe tbody tr th {\n",
       "        vertical-align: top;\n",
       "    }\n",
       "\n",
       "    .dataframe thead th {\n",
       "        text-align: right;\n",
       "    }\n",
       "</style>\n",
       "<table border=\"1\" class=\"dataframe\">\n",
       "  <thead>\n",
       "    <tr style=\"text-align: right;\">\n",
       "      <th></th>\n",
       "      <th>0</th>\n",
       "      <th>0</th>\n",
       "      <th>0</th>\n",
       "    </tr>\n",
       "  </thead>\n",
       "  <tbody>\n",
       "    <tr>\n",
       "      <th>avg_participants</th>\n",
       "      <td>1.000000</td>\n",
       "      <td>2.012048</td>\n",
       "      <td>3.000000</td>\n",
       "    </tr>\n",
       "    <tr>\n",
       "      <th>avg_questionnaire_benign</th>\n",
       "      <td>0.000000</td>\n",
       "      <td>0.000000</td>\n",
       "      <td>0.000000</td>\n",
       "    </tr>\n",
       "    <tr>\n",
       "      <th>avg_questionnaire_likely_benign</th>\n",
       "      <td>0.011111</td>\n",
       "      <td>0.000000</td>\n",
       "      <td>0.003906</td>\n",
       "    </tr>\n",
       "    <tr>\n",
       "      <th>avg_questionnaire_likely_pathogenic</th>\n",
       "      <td>0.029630</td>\n",
       "      <td>0.096386</td>\n",
       "      <td>0.109375</td>\n",
       "    </tr>\n",
       "    <tr>\n",
       "      <th>avg_questionnaire_na</th>\n",
       "      <td>0.003704</td>\n",
       "      <td>0.084337</td>\n",
       "      <td>0.015625</td>\n",
       "    </tr>\n",
       "    <tr>\n",
       "      <th>avg_questionnaire_pathogenic</th>\n",
       "      <td>0.096296</td>\n",
       "      <td>0.144578</td>\n",
       "      <td>0.230469</td>\n",
       "    </tr>\n",
       "    <tr>\n",
       "      <th>avg_questionnaire_vus</th>\n",
       "      <td>0.114815</td>\n",
       "      <td>0.108434</td>\n",
       "      <td>0.042969</td>\n",
       "    </tr>\n",
       "    <tr>\n",
       "      <th>avg_reported</th>\n",
       "      <td>0.277778</td>\n",
       "      <td>0.506024</td>\n",
       "      <td>0.519531</td>\n",
       "    </tr>\n",
       "    <tr>\n",
       "      <th>avg_reported_tier1</th>\n",
       "      <td>0.059259</td>\n",
       "      <td>0.120482</td>\n",
       "      <td>0.210938</td>\n",
       "    </tr>\n",
       "    <tr>\n",
       "      <th>avg_reported_tier2</th>\n",
       "      <td>0.148148</td>\n",
       "      <td>0.240964</td>\n",
       "      <td>0.136719</td>\n",
       "    </tr>\n",
       "    <tr>\n",
       "      <th>avg_reported_tier3</th>\n",
       "      <td>0.092593</td>\n",
       "      <td>0.156627</td>\n",
       "      <td>0.156250</td>\n",
       "    </tr>\n",
       "    <tr>\n",
       "      <th>avg_reported_untiered</th>\n",
       "      <td>0.022222</td>\n",
       "      <td>0.084337</td>\n",
       "      <td>0.093750</td>\n",
       "    </tr>\n",
       "    <tr>\n",
       "      <th>avg_samples</th>\n",
       "      <td>1.000000</td>\n",
       "      <td>2.000000</td>\n",
       "      <td>3.000000</td>\n",
       "    </tr>\n",
       "    <tr>\n",
       "      <th>avg_tier1</th>\n",
       "      <td>0.092593</td>\n",
       "      <td>0.204819</td>\n",
       "      <td>0.261719</td>\n",
       "    </tr>\n",
       "    <tr>\n",
       "      <th>avg_tier2</th>\n",
       "      <td>0.681481</td>\n",
       "      <td>1.108434</td>\n",
       "      <td>0.492188</td>\n",
       "    </tr>\n",
       "    <tr>\n",
       "      <th>avg_tier3</th>\n",
       "      <td>357.514815</td>\n",
       "      <td>156.746988</td>\n",
       "      <td>29.898438</td>\n",
       "    </tr>\n",
       "    <tr>\n",
       "      <th>count_cases</th>\n",
       "      <td>270.000000</td>\n",
       "      <td>83.000000</td>\n",
       "      <td>256.000000</td>\n",
       "    </tr>\n",
       "    <tr>\n",
       "      <th>count_cases_clinical_reports</th>\n",
       "      <td>241.000000</td>\n",
       "      <td>65.000000</td>\n",
       "      <td>221.000000</td>\n",
       "    </tr>\n",
       "    <tr>\n",
       "      <th>count_cases_exit_questionnaires</th>\n",
       "      <td>222.000000</td>\n",
       "      <td>56.000000</td>\n",
       "      <td>166.000000</td>\n",
       "    </tr>\n",
       "    <tr>\n",
       "      <th>count_cohorts</th>\n",
       "      <td>269.000000</td>\n",
       "      <td>83.000000</td>\n",
       "      <td>256.000000</td>\n",
       "    </tr>\n",
       "    <tr>\n",
       "      <th>count_groups</th>\n",
       "      <td>269.000000</td>\n",
       "      <td>83.000000</td>\n",
       "      <td>256.000000</td>\n",
       "    </tr>\n",
       "    <tr>\n",
       "      <th>count_panels</th>\n",
       "      <td>41.000000</td>\n",
       "      <td>33.000000</td>\n",
       "      <td>35.000000</td>\n",
       "    </tr>\n",
       "    <tr>\n",
       "      <th>count_panels_versioned</th>\n",
       "      <td>54.000000</td>\n",
       "      <td>37.000000</td>\n",
       "      <td>45.000000</td>\n",
       "    </tr>\n",
       "    <tr>\n",
       "      <th>count_participants</th>\n",
       "      <td>270.000000</td>\n",
       "      <td>167.000000</td>\n",
       "      <td>768.000000</td>\n",
       "    </tr>\n",
       "    <tr>\n",
       "      <th>count_positive_dx</th>\n",
       "      <td>50.000000</td>\n",
       "      <td>27.000000</td>\n",
       "      <td>100.000000</td>\n",
       "    </tr>\n",
       "    <tr>\n",
       "      <th>count_questionnaire_benign</th>\n",
       "      <td>0.000000</td>\n",
       "      <td>0.000000</td>\n",
       "      <td>0.000000</td>\n",
       "    </tr>\n",
       "    <tr>\n",
       "      <th>count_questionnaire_likely_benign</th>\n",
       "      <td>3.000000</td>\n",
       "      <td>0.000000</td>\n",
       "      <td>1.000000</td>\n",
       "    </tr>\n",
       "    <tr>\n",
       "      <th>count_questionnaire_likely_pathogenic</th>\n",
       "      <td>8.000000</td>\n",
       "      <td>8.000000</td>\n",
       "      <td>28.000000</td>\n",
       "    </tr>\n",
       "    <tr>\n",
       "      <th>count_questionnaire_na</th>\n",
       "      <td>1.000000</td>\n",
       "      <td>7.000000</td>\n",
       "      <td>4.000000</td>\n",
       "    </tr>\n",
       "    <tr>\n",
       "      <th>count_questionnaire_pathogenic</th>\n",
       "      <td>26.000000</td>\n",
       "      <td>12.000000</td>\n",
       "      <td>59.000000</td>\n",
       "    </tr>\n",
       "    <tr>\n",
       "      <th>count_questionnaire_vus</th>\n",
       "      <td>31.000000</td>\n",
       "      <td>9.000000</td>\n",
       "      <td>11.000000</td>\n",
       "    </tr>\n",
       "    <tr>\n",
       "      <th>count_reported</th>\n",
       "      <td>75.000000</td>\n",
       "      <td>42.000000</td>\n",
       "      <td>133.000000</td>\n",
       "    </tr>\n",
       "    <tr>\n",
       "      <th>count_reported_tier1</th>\n",
       "      <td>16.000000</td>\n",
       "      <td>10.000000</td>\n",
       "      <td>54.000000</td>\n",
       "    </tr>\n",
       "    <tr>\n",
       "      <th>count_reported_tier2</th>\n",
       "      <td>40.000000</td>\n",
       "      <td>20.000000</td>\n",
       "      <td>35.000000</td>\n",
       "    </tr>\n",
       "    <tr>\n",
       "      <th>count_reported_tier3</th>\n",
       "      <td>25.000000</td>\n",
       "      <td>13.000000</td>\n",
       "      <td>40.000000</td>\n",
       "    </tr>\n",
       "    <tr>\n",
       "      <th>count_reported_untiered</th>\n",
       "      <td>6.000000</td>\n",
       "      <td>7.000000</td>\n",
       "      <td>24.000000</td>\n",
       "    </tr>\n",
       "    <tr>\n",
       "      <th>count_samples</th>\n",
       "      <td>270.000000</td>\n",
       "      <td>166.000000</td>\n",
       "      <td>768.000000</td>\n",
       "    </tr>\n",
       "    <tr>\n",
       "      <th>count_tier1</th>\n",
       "      <td>25.000000</td>\n",
       "      <td>17.000000</td>\n",
       "      <td>67.000000</td>\n",
       "    </tr>\n",
       "    <tr>\n",
       "      <th>count_tier2</th>\n",
       "      <td>184.000000</td>\n",
       "      <td>92.000000</td>\n",
       "      <td>126.000000</td>\n",
       "    </tr>\n",
       "    <tr>\n",
       "      <th>count_tier3</th>\n",
       "      <td>96529.000000</td>\n",
       "      <td>13010.000000</td>\n",
       "      <td>7654.000000</td>\n",
       "    </tr>\n",
       "  </tbody>\n",
       "</table>\n",
       "</div>"
      ],
      "text/plain": [
       "                                                  0             0            0\n",
       "avg_participants                           1.000000      2.012048     3.000000\n",
       "avg_questionnaire_benign                   0.000000      0.000000     0.000000\n",
       "avg_questionnaire_likely_benign            0.011111      0.000000     0.003906\n",
       "avg_questionnaire_likely_pathogenic        0.029630      0.096386     0.109375\n",
       "avg_questionnaire_na                       0.003704      0.084337     0.015625\n",
       "avg_questionnaire_pathogenic               0.096296      0.144578     0.230469\n",
       "avg_questionnaire_vus                      0.114815      0.108434     0.042969\n",
       "avg_reported                               0.277778      0.506024     0.519531\n",
       "avg_reported_tier1                         0.059259      0.120482     0.210938\n",
       "avg_reported_tier2                         0.148148      0.240964     0.136719\n",
       "avg_reported_tier3                         0.092593      0.156627     0.156250\n",
       "avg_reported_untiered                      0.022222      0.084337     0.093750\n",
       "avg_samples                                1.000000      2.000000     3.000000\n",
       "avg_tier1                                  0.092593      0.204819     0.261719\n",
       "avg_tier2                                  0.681481      1.108434     0.492188\n",
       "avg_tier3                                357.514815    156.746988    29.898438\n",
       "count_cases                              270.000000     83.000000   256.000000\n",
       "count_cases_clinical_reports             241.000000     65.000000   221.000000\n",
       "count_cases_exit_questionnaires          222.000000     56.000000   166.000000\n",
       "count_cohorts                            269.000000     83.000000   256.000000\n",
       "count_groups                             269.000000     83.000000   256.000000\n",
       "count_panels                              41.000000     33.000000    35.000000\n",
       "count_panels_versioned                    54.000000     37.000000    45.000000\n",
       "count_participants                       270.000000    167.000000   768.000000\n",
       "count_positive_dx                         50.000000     27.000000   100.000000\n",
       "count_questionnaire_benign                 0.000000      0.000000     0.000000\n",
       "count_questionnaire_likely_benign          3.000000      0.000000     1.000000\n",
       "count_questionnaire_likely_pathogenic      8.000000      8.000000    28.000000\n",
       "count_questionnaire_na                     1.000000      7.000000     4.000000\n",
       "count_questionnaire_pathogenic            26.000000     12.000000    59.000000\n",
       "count_questionnaire_vus                   31.000000      9.000000    11.000000\n",
       "count_reported                            75.000000     42.000000   133.000000\n",
       "count_reported_tier1                      16.000000     10.000000    54.000000\n",
       "count_reported_tier2                      40.000000     20.000000    35.000000\n",
       "count_reported_tier3                      25.000000     13.000000    40.000000\n",
       "count_reported_untiered                    6.000000      7.000000    24.000000\n",
       "count_samples                            270.000000    166.000000   768.000000\n",
       "count_tier1                               25.000000     17.000000    67.000000\n",
       "count_tier2                              184.000000     92.000000   126.000000\n",
       "count_tier3                            96529.000000  13010.000000  7654.000000"
      ]
     },
     "execution_count": 11,
     "metadata": {},
     "output_type": "execute_result"
    }
   ],
   "source": [
    "cases_summary_family1 = cases_client.get_summary({'program':Program.rare_disease, 'num_samples':1}, as_data_frame=True)\n",
    "cases_summary_family2 = cases_client.get_summary({'program':Program.rare_disease, 'num_samples':2}, as_data_frame=True)\n",
    "cases_summary_family3 = cases_client.get_summary({'program':Program.rare_disease, 'num_samples':3}, as_data_frame=True)\n",
    "pd.concat([cases_summary_family1, cases_summary_family2, cases_summary_family3]).transpose()"
   ]
  },
  {
   "cell_type": "markdown",
   "metadata": {},
   "source": [
    "## Secondary entities\n",
    "\n",
    "There are secondary entities that are usually used to filter the main entities. Some of these are:\n",
    "* **Panel of genes**. A gene panel is a list of genes that is of specific interest for a given condition. Although each family may be analysed against multiple panels, our family analysis are panel-centric.\n",
    "* **Genes**. The mapping between Ensembl identifiers and HGNC gene symbols (TODO)\n",
    "* **Phenotypes**. The HPO terms including identifier, name and synonyms (TODO)"
   ]
  },
  {
   "cell_type": "code",
   "execution_count": 12,
   "metadata": {},
   "outputs": [
    {
     "name": "stderr",
     "output_type": "stream",
     "text": [
      "INFO:root:2018-08-05 09:43:50.274138 GET http://localhost:8080/cva/api/0/panels/summary?use_versions=False Server=Apache-Coyote/1.1, Access-Control-Allow-Origin=*, Access-Control-Allow-Headers=x-requested-with, content-type, Access-Control-Allow-Credentials=true, Access-Control-Allow-Methods=GET, POST, OPTIONS, Content-Type=application/json, Content-Length=4343, Date=Sun, 05 Aug 2018 08:43:49 GMT\n",
      "INFO:root:Response time : 28 ms\n"
     ]
    },
    {
     "data": {
      "text/plain": [
       "[None,\n",
       " u'posterior segment abnormalities',\n",
       " u'multiple bowel polyps',\n",
       " u'intellectual disability',\n",
       " u'familial colon cancer']"
      ]
     },
     "execution_count": 12,
     "metadata": {},
     "output_type": "execute_result"
    }
   ],
   "source": [
    "# fetch the list of panel names\n",
    "all_panels = panels_client.get_all_panels()\n",
    "all_panels[0:5]"
   ]
  },
  {
   "cell_type": "code",
   "execution_count": 13,
   "metadata": {},
   "outputs": [
    {
     "name": "stderr",
     "output_type": "stream",
     "text": [
      "INFO:root:2018-08-05 09:43:50.323164 GET http://localhost:8080/cva/api/0/panels/summary?use_versions=True Server=Apache-Coyote/1.1, Access-Control-Allow-Origin=*, Access-Control-Allow-Headers=x-requested-with, content-type, Access-Control-Allow-Credentials=true, Access-Control-Allow-Methods=GET, POST, OPTIONS, Content-Type=application/json, Content-Length=6896, Date=Sun, 05 Aug 2018 08:43:49 GMT\n",
      "INFO:root:Response time : 30 ms\n"
     ]
    },
    {
     "data": {
      "text/plain": [
       "[{u'count_cases': 505, u'panel': {}},\n",
       " {u'count_cases': 118,\n",
       "  u'panel': {u'name': u'posterior segment abnormalities', u'version': u'1.8'}},\n",
       " {u'count_cases': 88,\n",
       "  u'panel': {u'name': u'intellectual disability', u'version': u'1.2'}},\n",
       " {u'count_cases': 83,\n",
       "  u'panel': {u'name': u'multiple bowel polyps', u'version': u'1.6'}},\n",
       " {u'count_cases': 59,\n",
       "  u'panel': {u'name': u'posterior segment abnormalities', u'version': u'1.7'}}]"
      ]
     },
     "execution_count": 13,
     "metadata": {},
     "output_type": "execute_result"
    }
   ],
   "source": [
    "# fetch the list of panel names and versions and the number of cases\n",
    "panels_client.get_panels_summary()[0:5]"
   ]
  },
  {
   "cell_type": "markdown",
   "metadata": {},
   "source": [
    "## Select cases\n",
    "\n",
    "We may want to select a set cases by different criteria"
   ]
  },
  {
   "cell_type": "code",
   "execution_count": 14,
   "metadata": {},
   "outputs": [
    {
     "name": "stderr",
     "output_type": "stream",
     "text": [
      "INFO:root:2018-08-05 09:43:50.645354 GET http://localhost:8080/cva/api/0/cases?panel_name=intellectual disability&program=rare_disease&num_samples=3 Server=Apache-Coyote/1.1, Link=<?limit=200&marker=fb3fe05c-ef6d-4eb7-a49e-7002b658720d>; rel=\"next\", X-Pagination-Limit=200, X-Pagination-Marker=fb3fe05c-ef6d-4eb7-a49e-7002b658720d, Access-Control-Allow-Origin=*, Access-Control-Allow-Headers=x-requested-with, content-type, Access-Control-Allow-Credentials=true, Access-Control-Allow-Methods=GET, POST, OPTIONS, Content-Type=application/json, Transfer-Encoding=chunked, Date=Sun, 05 Aug 2018 08:43:49 GMT\n",
      "INFO:root:Response time : 273 ms\n",
      "INFO:root:2018-08-05 09:43:50.718379 GET http://localhost:8080/cva/api/0/cases?marker=fb3fe05c-ef6d-4eb7-a49e-7002b658720d&panel_name=intellectual disability&program=rare_disease&limit=200&num_samples=3 Server=Apache-Coyote/1.1, Access-Control-Allow-Origin=*, Access-Control-Allow-Headers=x-requested-with, content-type, Access-Control-Allow-Credentials=true, Access-Control-Allow-Methods=GET, POST, OPTIONS, Content-Type=application/json, Content-Length=326, Date=Sun, 05 Aug 2018 08:43:50 GMT\n",
      "INFO:root:Response time : 36 ms\n"
     ]
    },
    {
     "name": "stdout",
     "output_type": "stream",
     "text": [
      "Found 79 cases\n"
     ]
    }
   ],
   "source": [
    "# Get all cases in panel intellectual disability having 3 samples in the family\n",
    "cases = cases_client.get_cases({'program':Program.rare_disease, \n",
    "                        'panel_name':'intellectual disability',\n",
    "                        'num_samples':3})\n",
    "print \"Found {} cases\".format(len(list(cases)))"
   ]
  },
  {
   "cell_type": "code",
   "execution_count": 15,
   "metadata": {},
   "outputs": [
    {
     "name": "stderr",
     "output_type": "stream",
     "text": [
      "INFO:root:2018-08-05 09:43:50.786644 GET http://localhost:8080/cva/api/0/cases?reported_ensembl_ids=ENSG00000182872 Server=Apache-Coyote/1.1, Link=<?limit=200&marker=4e144f72-81e4-4a37-9f99-18043289b9ff>; rel=\"next\", X-Pagination-Limit=200, X-Pagination-Marker=4e144f72-81e4-4a37-9f99-18043289b9ff, Access-Control-Allow-Origin=*, Access-Control-Allow-Headers=x-requested-with, content-type, Access-Control-Allow-Credentials=true, Access-Control-Allow-Methods=GET, POST, OPTIONS, Content-Type=application/json, Content-Length=7541, Date=Sun, 05 Aug 2018 08:43:50 GMT\n",
      "INFO:root:Response time : 48 ms\n",
      "INFO:root:2018-08-05 09:43:50.852816 GET http://localhost:8080/cva/api/0/cases?marker=4e144f72-81e4-4a37-9f99-18043289b9ff&reported_ensembl_ids=ENSG00000182872&limit=200 Server=Apache-Coyote/1.1, Access-Control-Allow-Origin=*, Access-Control-Allow-Headers=x-requested-with, content-type, Access-Control-Allow-Credentials=true, Access-Control-Allow-Methods=GET, POST, OPTIONS, Content-Type=application/json, Content-Length=326, Date=Sun, 05 Aug 2018 08:43:50 GMT\n",
      "INFO:root:Response time : 55 ms\n"
     ]
    },
    {
     "name": "stdout",
     "output_type": "stream",
     "text": [
      "Found 1 cases\n"
     ]
    }
   ],
   "source": [
    "# Get all cases having a given gene reported\n",
    "cases = cases_client.get_cases({'reported_ensembl_ids':'ENSG00000182872'})\n",
    "print \"Found {} cases\".format(len(list(cases)))"
   ]
  },
  {
   "cell_type": "code",
   "execution_count": 16,
   "metadata": {},
   "outputs": [
    {
     "name": "stderr",
     "output_type": "stream",
     "text": [
      "INFO:root:2018-08-05 09:43:50.930804 GET http://localhost:8080/cva/api/0/cases?proband_hpo_terms=HP:0002616&proband_hpo_terms=HP:0003124 Server=Apache-Coyote/1.1, Link=<?limit=200&marker=ec169224-2a6e-44bc-85c7-0ec9ef58c9b9>; rel=\"next\", X-Pagination-Limit=200, X-Pagination-Marker=ec169224-2a6e-44bc-85c7-0ec9ef58c9b9, Access-Control-Allow-Origin=*, Access-Control-Allow-Headers=x-requested-with, content-type, Access-Control-Allow-Credentials=true, Access-Control-Allow-Methods=GET, POST, OPTIONS, Content-Type=application/json, Transfer-Encoding=chunked, Date=Sun, 05 Aug 2018 08:43:50 GMT\n",
      "INFO:root:Response time : 56 ms\n",
      "INFO:root:2018-08-05 09:43:50.988773 GET http://localhost:8080/cva/api/0/cases?marker=ec169224-2a6e-44bc-85c7-0ec9ef58c9b9&limit=200&proband_hpo_terms=HP:0002616&proband_hpo_terms=HP:0003124 Server=Apache-Coyote/1.1, Access-Control-Allow-Origin=*, Access-Control-Allow-Headers=x-requested-with, content-type, Access-Control-Allow-Credentials=true, Access-Control-Allow-Methods=GET, POST, OPTIONS, Content-Type=application/json, Content-Length=326, Date=Sun, 05 Aug 2018 08:43:50 GMT\n",
      "INFO:root:Response time : 51 ms\n"
     ]
    },
    {
     "name": "stdout",
     "output_type": "stream",
     "text": [
      "Found 4 cases\n"
     ]
    }
   ],
   "source": [
    "# Get all cases having any phenotype from a list\n",
    "cases = cases_client.get_cases({'proband_hpo_terms':['HP:0002616', 'HP:0003124']})\n",
    "print \"Found {} cases\".format(len(list(cases)))"
   ]
  },
  {
   "cell_type": "code",
   "execution_count": 17,
   "metadata": {},
   "outputs": [
    {
     "name": "stderr",
     "output_type": "stream",
     "text": [
      "INFO:root:2018-08-05 09:43:51.071841 GET http://localhost:8080/cva/api/0/cases?any_or_all_hpos=ALL&proband_hpo_terms=HP:0002616&proband_hpo_terms=HP:0003124 Server=Apache-Coyote/1.1, Link=<?limit=200&marker=39844384-c830-4896-a1f9-e6088d002fb9>; rel=\"next\", X-Pagination-Limit=200, X-Pagination-Marker=39844384-c830-4896-a1f9-e6088d002fb9, Access-Control-Allow-Origin=*, Access-Control-Allow-Headers=x-requested-with, content-type, Access-Control-Allow-Credentials=true, Access-Control-Allow-Methods=GET, POST, OPTIONS, Content-Type=application/json, Transfer-Encoding=chunked, Date=Sun, 05 Aug 2018 08:43:50 GMT\n",
      "INFO:root:Response time : 56 ms\n",
      "INFO:root:2018-08-05 09:43:51.144047 GET http://localhost:8080/cva/api/0/cases?any_or_all_hpos=ALL&marker=39844384-c830-4896-a1f9-e6088d002fb9&limit=200&proband_hpo_terms=HP:0002616&proband_hpo_terms=HP:0003124 Server=Apache-Coyote/1.1, Access-Control-Allow-Origin=*, Access-Control-Allow-Headers=x-requested-with, content-type, Access-Control-Allow-Credentials=true, Access-Control-Allow-Methods=GET, POST, OPTIONS, Content-Type=application/json, Content-Length=326, Date=Sun, 05 Aug 2018 08:43:50 GMT\n",
      "INFO:root:Response time : 63 ms\n"
     ]
    },
    {
     "name": "stdout",
     "output_type": "stream",
     "text": [
      "Found 1 cases\n"
     ]
    }
   ],
   "source": [
    "# Get all cases having all phenotypes from a list\n",
    "cases = cases_client.get_cases({'proband_hpo_terms':['HP:0002616', 'HP:0003124'],\n",
    "                               'any_or_all_hpos':'ALL'})\n",
    "print \"Found {} cases\".format(len(list(cases)))"
   ]
  },
  {
   "cell_type": "markdown",
   "metadata": {},
   "source": [
    "## Get all data about a given case\n",
    "\n",
    "The information about any given case is distributed across: the cases, the report events, the variants and the pedigree.\n",
    "Given that we have the case id and version we will be able to fetch all data relative to that case.\n",
    "\n",
    "* **Cases**. Contain the basic information about a given case, including lists of relevant variants and case status (open/closed, solved/unsolved).\n",
    "* **Report events**. Contain the full information about the segregation of a variant within a family and why this was selected in each condition. The same variant may have multiple report events, because it was selected in multiple steps of the interpretation or because it was relevant in more than one panel (ie: the same case may be analysed against multiple panels)\n",
    "* **Variants**. Contain the coordinates of any given variant in two assemblies GRCh37 and GRCh38 and the Cellbase annotations in those.\n",
    "* **Pedigree**. Contain the detailed information about a family and its members. Each case will have only one pedigree."
   ]
  },
  {
   "cell_type": "code",
   "execution_count": 18,
   "metadata": {},
   "outputs": [
    {
     "name": "stderr",
     "output_type": "stream",
     "text": [
      "INFO:root:2018-08-05 09:43:51.186688 GET http://localhost:8080/cva/api/0/cases/132/1? Server=Apache-Coyote/1.1, Access-Control-Allow-Origin=*, Access-Control-Allow-Headers=x-requested-with, content-type, Access-Control-Allow-Credentials=true, Access-Control-Allow-Methods=GET, POST, OPTIONS, Content-Type=application/json, Transfer-Encoding=chunked, Date=Sun, 05 Aug 2018 08:43:50 GMT\n",
      "INFO:root:Response time : 21 ms\n"
     ]
    },
    {
     "name": "stdout",
     "output_type": "stream",
     "text": [
      "There are 143 attributes for a case\n"
     ]
    }
   ],
   "source": [
    "# get a case\n",
    "case = cases_client.get_case(identifier=\"132\", version=1, as_data_frame=True)\n",
    "print \"There are {} attributes for a case\".format(case.size)"
   ]
  },
  {
   "cell_type": "code",
   "execution_count": 19,
   "metadata": {},
   "outputs": [
    {
     "name": "stderr",
     "output_type": "stream",
     "text": [
      "INFO:root:2018-08-05 09:43:51.249852 GET http://localhost:8080/cva/api/0/pedigrees/132/1? Server=Apache-Coyote/1.1, Access-Control-Allow-Origin=*, Access-Control-Allow-Headers=x-requested-with, content-type, Access-Control-Allow-Credentials=true, Access-Control-Allow-Methods=GET, POST, OPTIONS, Content-Type=application/json, Transfer-Encoding=chunked, Date=Sun, 05 Aug 2018 08:43:50 GMT\n",
      "INFO:root:Response time : 24 ms\n"
     ]
    },
    {
     "data": {
      "text/plain": [
       "11"
      ]
     },
     "execution_count": 19,
     "metadata": {},
     "output_type": "execute_result"
    }
   ],
   "source": [
    "# get a pedigree for a case\n",
    "ped = pedigrees_client.get_pedigree(identifier=\"132\", version=1, as_data_frame=True)\n",
    "len(ped.keys())"
   ]
  },
  {
   "cell_type": "code",
   "execution_count": 20,
   "metadata": {},
   "outputs": [
    {
     "data": {
      "text/plain": [
       "(25, 4)"
      ]
     },
     "execution_count": 20,
     "metadata": {},
     "output_type": "execute_result"
    }
   ],
   "source": [
    "# get the details about the members of a pedigree\n",
    "members = []\n",
    "for member in ped['pedigree.members'][0]:\n",
    "    members.append(pd.DataFrame(member.items(), columns=['attribute', member['participantId']]))\n",
    "reduce(lambda x, y: pd.merge(x, y, on = 'attribute'), members).shape"
   ]
  },
  {
   "cell_type": "code",
   "execution_count": 21,
   "metadata": {},
   "outputs": [
    {
     "name": "stderr",
     "output_type": "stream",
     "text": [
      "INFO:root:2018-08-05 09:43:51.401257 GET http://localhost:8080/cva/api/0/report-events?case_id=132&case_version=1 Server=Apache-Coyote/1.1, Link=<?limit=200&marker=f9565433-fedd-401e-b432-703af6a662ad>; rel=\"next\", X-Pagination-Limit=200, X-Pagination-Marker=f9565433-fedd-401e-b432-703af6a662ad, Access-Control-Allow-Origin=*, Access-Control-Allow-Headers=x-requested-with, content-type, Access-Control-Allow-Credentials=true, Access-Control-Allow-Methods=GET, POST, OPTIONS, Content-Type=application/json, Transfer-Encoding=chunked, Date=Sun, 05 Aug 2018 08:43:50 GMT\n",
      "INFO:root:Response time : 79 ms\n",
      "INFO:root:2018-08-05 09:43:51.479339 GET http://localhost:8080/cva/api/0/report-events?marker=f9565433-fedd-401e-b432-703af6a662ad&case_id=132&limit=200&case_version=1 Server=Apache-Coyote/1.1, Access-Control-Allow-Origin=*, Access-Control-Allow-Headers=x-requested-with, content-type, Access-Control-Allow-Credentials=true, Access-Control-Allow-Methods=GET, POST, OPTIONS, Content-Type=application/json, Content-Length=243, Date=Sun, 05 Aug 2018 08:43:50 GMT\n",
      "INFO:root:Response time : 38 ms\n"
     ]
    },
    {
     "name": "stdout",
     "output_type": "stream",
     "text": [
      "Found 41 report events for the case\n"
     ]
    }
   ],
   "source": [
    "# get all report events for a case\n",
    "report_events = report_events_client.get_report_events(params={'case_id':\"132\", 'case_version':1})\n",
    "print \"Found {} report events for the case\".format(len(list(report_events)))"
   ]
  },
  {
   "cell_type": "code",
   "execution_count": 22,
   "metadata": {},
   "outputs": [
    {
     "name": "stderr",
     "output_type": "stream",
     "text": [
      "INFO:root:2018-08-05 09:43:51.527163 GET http://localhost:8080/cva/api/0/cases/132/1? Server=Apache-Coyote/1.1, Access-Control-Allow-Origin=*, Access-Control-Allow-Headers=x-requested-with, content-type, Access-Control-Allow-Credentials=true, Access-Control-Allow-Methods=GET, POST, OPTIONS, Content-Type=application/json, Transfer-Encoding=chunked, Date=Sun, 05 Aug 2018 08:43:50 GMT\n",
      "INFO:root:Response time : 22 ms\n",
      "INFO:root:2018-08-05 09:43:51.589534 GET http://localhost:8080/cva/api/0/report-events?variants=GRCh38: 2: 178718448:T:C&case_id=132&case_version=1 Server=Apache-Coyote/1.1, Link=<?limit=200&marker=d6fdd144-bebb-4c43-a5c4-dc75d79e2ccb>; rel=\"next\", X-Pagination-Limit=200, X-Pagination-Marker=d6fdd144-bebb-4c43-a5c4-dc75d79e2ccb, Access-Control-Allow-Origin=*, Access-Control-Allow-Headers=x-requested-with, content-type, Access-Control-Allow-Credentials=true, Access-Control-Allow-Methods=GET, POST, OPTIONS, Content-Type=application/json, Content-Length=3400, Date=Sun, 05 Aug 2018 08:43:50 GMT\n",
      "INFO:root:Response time : 46 ms\n",
      "INFO:root:2018-08-05 09:43:51.639574 GET http://localhost:8080/cva/api/0/report-events?marker=d6fdd144-bebb-4c43-a5c4-dc75d79e2ccb&variants=GRCh38: 2: 178718448:T:C&case_id=132&limit=200&case_version=1 Server=Apache-Coyote/1.1, Access-Control-Allow-Origin=*, Access-Control-Allow-Headers=x-requested-with, content-type, Access-Control-Allow-Credentials=true, Access-Control-Allow-Methods=GET, POST, OPTIONS, Content-Type=application/json, Content-Length=243, Date=Sun, 05 Aug 2018 08:43:50 GMT\n",
      "INFO:root:Response time : 42 ms\n"
     ]
    },
    {
     "name": "stdout",
     "output_type": "stream",
     "text": [
      "Found 1 report events for the given variant in the case\n"
     ]
    }
   ],
   "source": [
    "# get all report events in a case for a given variant\n",
    "case = cases_client.get_case(identifier=\"132\", version=1, as_data_frame=False)\n",
    "variant = case['tieredVariants'][Tier.TIER3][0]\n",
    "report_events = report_events_client.get_report_events(params={'case_id':\"132\", 'case_version':1, 'variants':[variant]})\n",
    "print \"Found {} report events for the given variant in the case\".format(len(list(report_events)))"
   ]
  },
  {
   "cell_type": "code",
   "execution_count": 23,
   "metadata": {},
   "outputs": [
    {
     "name": "stderr",
     "output_type": "stream",
     "text": [
      "INFO:root:2018-08-05 09:43:52.980764 GET http://localhost:8080/cva/api/0/report-events?full_populate=True&case_id=132&case_version=1 Server=Apache-Coyote/1.1, Link=<?limit=200&marker=f9565433-fedd-401e-b432-703af6a662ad>; rel=\"next\", X-Pagination-Limit=200, X-Pagination-Marker=f9565433-fedd-401e-b432-703af6a662ad, Access-Control-Allow-Origin=*, Access-Control-Allow-Headers=x-requested-with, content-type, Access-Control-Allow-Credentials=true, Access-Control-Allow-Methods=GET, POST, OPTIONS, Content-Type=application/json, Transfer-Encoding=chunked, Date=Sun, 05 Aug 2018 08:43:52 GMT\n",
      "INFO:root:Response time : 1146 ms\n"
     ]
    },
    {
     "name": "stdout",
     "output_type": "stream",
     "text": [
      "The variant in the first report event is annotated with biotypes: retained_intron, protein_coding, protein_coding, protein_coding, protein_coding, protein_coding, nonsense_mediated_decay, protein_coding, protein_coding, protein_coding, protein_coding, retained_intron, retained_intron, protein_coding, retained_intron, retained_intron, retained_intron, protein_coding, retained_intron, protein_coding, protein_coding, retained_intron, \n"
     ]
    }
   ],
   "source": [
    "# fetch the report events together with all Cellbase annotations using `full_populate=true`\n",
    "report_events = report_events_client.get_report_events(\n",
    "    params={'case_id':\"132\", 'case_version':1, 'full_populate':True})\n",
    "variant_annotations = report_events.next().observedVariants[0].variant\n",
    "biotypes = [ct.biotype for ct in variant_annotations.variants[0].variant.annotation.consequenceTypes]\n",
    "print \"The variant in the first report event is annotated with biotypes: {}\".format(\", \".join(biotypes))"
   ]
  },
  {
   "cell_type": "markdown",
   "metadata": {},
   "source": [
    "## Get similar cases\n",
    "\n",
    "At the moment we have implemented two endpoints returning similar cases:\n",
    "* Phenotypic similarity based on the HPO ontology and the annotations of terms to diseases\n",
    "* Genotypic similarity based on similar variants found\n",
    "    - Exact same variant\n",
    "    - Same gene (TODO)\n",
    "    - Other similar variants or genes (TODO)\n",
    "\n",
    "NOTE: changes to come on case similarity metrics...\n"
   ]
  },
  {
   "cell_type": "code",
   "execution_count": 24,
   "metadata": {},
   "outputs": [
    {
     "name": "stderr",
     "output_type": "stream",
     "text": [
      "INFO:root:2018-08-05 09:43:54.565130 GET http://localhost:8080/cva/api/0/cases/132/1/similar-cases?limit=10&similarity_metric=PHENODIGM Server=Apache-Coyote/1.1, Access-Control-Allow-Origin=*, Access-Control-Allow-Headers=x-requested-with, content-type, Access-Control-Allow-Credentials=true, Access-Control-Allow-Methods=GET, POST, OPTIONS, Content-Type=application/json, Content-Length=817, Date=Sun, 05 Aug 2018 08:43:54 GMT\n",
      "INFO:root:Response time : 530 ms\n"
     ]
    },
    {
     "name": "stdout",
     "output_type": "stream",
     "text": [
      "Found 10 cases with score 1.0, 0.1423025, 0.13333334, 0.1254363, 0.12385842, 0.11517511, 0.08257228, 0.05, 0.05, 0.05\n"
     ]
    }
   ],
   "source": [
    "# get top 10 similar cases to case 1000-1 prioritised by score\n",
    "similar_cases = cases_client.get_similar_cases_by_case(\"132\", 1, similarity_metric='PHENODIGM', limit=10)\n",
    "print \"Found {} cases with score {}\".format(len(similar_cases), \", \".join([str(c['score']) for c in similar_cases]))"
   ]
  },
  {
   "cell_type": "code",
   "execution_count": 25,
   "metadata": {},
   "outputs": [
    {
     "name": "stderr",
     "output_type": "stream",
     "text": [
      "INFO:root:2018-08-05 09:43:54.771078 GET http://localhost:8080/cva/api/0/cases/phenotypes/similar-cases?limit=10&similarity_metric=PHENODIGM&hpo_ids=HP:0002616&hpo_ids=HP:00012345 Server=Apache-Coyote/1.1, Access-Control-Allow-Origin=*, Access-Control-Allow-Headers=x-requested-with, content-type, Access-Control-Allow-Credentials=true, Access-Control-Allow-Methods=GET, POST, OPTIONS, Content-Type=application/json, Content-Length=777, Date=Sun, 05 Aug 2018 08:43:54 GMT\n",
      "INFO:root:Response time : 167 ms\n"
     ]
    },
    {
     "name": "stdout",
     "output_type": "stream",
     "text": [
      "Found 10 cases with score 0.28867513, 0.0, 0.0, 0.0, 0.0, 0.0, 0.0, 0.0, 0.0, 0.0\n"
     ]
    }
   ],
   "source": [
    "# get top 10 similar cases to the list of phenotypes HP:0002616, HP:00012345 prioritised by score\n",
    "similar_cases = cases_client.get_similar_cases_by_phenotypes(['HP:0002616', 'HP:00012345'], similarity_metric='PHENODIGM', limit=10)\n",
    "print \"Found {} cases with score {}\".format(len(similar_cases), \", \".join([str(c['score']) for c in similar_cases]))"
   ]
  },
  {
   "cell_type": "code",
   "execution_count": 26,
   "metadata": {},
   "outputs": [
    {
     "name": "stderr",
     "output_type": "stream",
     "text": [
      "INFO:root:2018-08-05 09:43:55.215706 GET http://localhost:8080/cva/api/0/cases/132/1/shared-variants?limit=10&type=tiered Server=Apache-Coyote/1.1, Access-Control-Allow-Origin=*, Access-Control-Allow-Headers=x-requested-with, content-type, Access-Control-Allow-Credentials=true, Access-Control-Allow-Methods=GET, POST, OPTIONS, Content-Type=application/json, Transfer-Encoding=chunked, Date=Sun, 05 Aug 2018 08:43:54 GMT\n",
      "INFO:root:Response time : 338 ms\n"
     ]
    },
    {
     "name": "stdout",
     "output_type": "stream",
     "text": [
      "Found 10 cases with shared variants 3, 2, 5, 4, 1, 4, 1, 1, 4, 1\n"
     ]
    }
   ],
   "source": [
    "# get top 10 cases having any tiered variant shared with a case\n",
    "similar_cases = cases_client.get_shared_variants_cases_by_case(\n",
    "    \"132\", 1, report_event_type=ReportEventType.genomics_england_tiering, limit=10)\n",
    "print \"Found {} cases with shared variants {}\".format(\n",
    "    len(similar_cases), \", \".join([str(len(c['sharedVariants'])) for c in similar_cases]))"
   ]
  },
  {
   "cell_type": "code",
   "execution_count": 27,
   "metadata": {},
   "outputs": [
    {
     "name": "stderr",
     "output_type": "stream",
     "text": [
      "INFO:root:2018-08-05 09:43:55.385084 GET http://localhost:8080/cva/api/0/cases/132/1/shared-variants?limit=10&type=reported Server=Apache-Coyote/1.1, Access-Control-Allow-Origin=*, Access-Control-Allow-Headers=x-requested-with, content-type, Access-Control-Allow-Credentials=true, Access-Control-Allow-Methods=GET, POST, OPTIONS, Content-Type=application/json, Content-Length=243, Date=Sun, 05 Aug 2018 08:43:54 GMT\n",
      "INFO:root:Response time : 99 ms\n",
      "WARNING:root:No cases sharing reported variants  found\n"
     ]
    },
    {
     "name": "stdout",
     "output_type": "stream",
     "text": [
      "No cases found\n"
     ]
    }
   ],
   "source": [
    "# get top 10 cases having any reported variant shared with case 4108-1\n",
    "similar_cases = cases_client.get_shared_variants_cases_by_case(\n",
    "    \"132\", 1, report_event_type=ReportEventType.reported, limit=10)\n",
    "if similar_cases:\n",
    "    print \"Found {} cases with shared variants {}\".format(\n",
    "        len(similar_cases), \", \".join([str(len(c['sharedVariants'])) for c in similar_cases]))\n",
    "else:\n",
    "    print \"No cases found\""
   ]
  }
 ],
 "metadata": {
  "kernelspec": {
   "display_name": ".env",
   "language": "python",
   "name": ".env"
  },
  "language_info": {
   "codemirror_mode": {
    "name": "ipython",
    "version": 2.0
   },
   "file_extension": ".py",
   "mimetype": "text/x-python",
   "name": "python",
   "nbconvert_exporter": "python",
   "pygments_lexer": "ipython2",
   "version": "2.7.12"
  }
 },
 "nbformat": 4,
 "nbformat_minor": 0
}