{
 "cells": [
  {
   "cell_type": "markdown",
   "metadata": {
    "toc": true
   },
   "source": [
    "<h1>The Clinical Variant Ark client: pyark<span class=\"tocSkip\"></span></h1>\n",
    "<div class=\"toc\"><ul class=\"toc-item\"><li><span><a href=\"#Introduction\" data-toc-modified-id=\"Introduction-1\"><span class=\"toc-item-num\">1&nbsp;&nbsp;</span>Introduction</a></span></li><li><span><a href=\"#Context\" data-toc-modified-id=\"Context-2\"><span class=\"toc-item-num\">2&nbsp;&nbsp;</span>Context</a></span></li><li><span><a href=\"#The-CVA-client:-pyark\" data-toc-modified-id=\"The-CVA-client:-pyark-3\"><span class=\"toc-item-num\">3&nbsp;&nbsp;</span>The CVA client: pyark</a></span><ul class=\"toc-item\"><li><span><a href=\"#Initialising-the-client\" data-toc-modified-id=\"Initialising-the-client-3.1\"><span class=\"toc-item-num\">3.1&nbsp;&nbsp;</span><a href=\"client_initialisation.html\" target=\"_blank\">Initialising the client</a></a></span></li><li><span><a href=\"#Fetching-primary-entities\" data-toc-modified-id=\"Fetching-primary-entities-3.2\"><span class=\"toc-item-num\">3.2&nbsp;&nbsp;</span><a href=\"fetching_primary_entities.html\" target=\"_blank\">Fetching primary entities</a></a></span></li><li><span><a href=\"#Fetching-secondary-entities\" data-toc-modified-id=\"Fetching-secondary-entities-3.3\"><span class=\"toc-item-num\">3.3&nbsp;&nbsp;</span><a href=\"fetching_secondary_entities.html\" target=\"_blank\">Fetching secondary entities</a></a></span></li><li><span><a href=\"#Search-and-filter\" data-toc-modified-id=\"Search-and-filter-3.4\"><span class=\"toc-item-num\">3.4&nbsp;&nbsp;</span><a href=\"search.html\" target=\"_blank\">Search and filter</a></a></span></li><li><span><a href=\"#Cohort-selection\" data-toc-modified-id=\"Cohort-selection-3.5\"><span class=\"toc-item-num\">3.5&nbsp;&nbsp;</span><a href=\"cohort_selection.html\" target=\"_blank\">Cohort selection</a></a></span></li></ul></li></ul></div>"
   ]
  },
  {
   "cell_type": "markdown",
   "metadata": {
    "heading_collapsed": true
   },
   "source": [
    "## Introduction\n",
    "\n",
    "The Clinical Variant Ark (CVA) https://github.com/genomicsengland/clinical_variant_ark is a **knowledge base for clinically relevant variants and their association to phenotypes**, with fine grained detail for all the stages of interpretation, from automated variant prioritisation to manual classification. CVA holds the interpretation results of the 100K Genomes Project and in the future it will hold the results of the National Genomic Informatics System (NGIS).\n",
    "\n",
    "The motivation of such a knowledge base are many:\n",
    "* How do I compare cases from different assemblies, different pipelines, etc.?\n",
    "* How do we enforce the virtuous cycle of genomic interpretation?\n",
    "* How do I find cases that are similar to my case?\n",
    "* How can I monitor the trends in the interpretation of cases?\n",
    "\n",
    "The above questions are answered by providing the following features:\n",
    "* Normalisation\n",
    "* To feedback information both programmatically to the interpretation process and on demand through a GUI\n",
    "* Maintain a set of manually curated variants and their association to phenotypes\n",
    "* Implement phenotypic and genotypic similarity\n",
    "* Being an analytical platform enabling cross cases comparisons and analyses\n",
    "\n",
    "The CVA ecosystem is composed of a Java backend, backed by a MongoDB database, exposing a REST API. A user can access CVA in three ways: 1) directly through the REST API, 2) using the CVA portal from a browser or 3) using the Python client, pyark. The rest of this documentation will be focused on accessing CVA using pyark, although it may be a good documentation to understand what can be done using the REST API.\n",
    "\n",
    "![CVA's ecosystem](figures/cva_ecosystem.png)\n",
    "\n",
    "## Context\n",
    "\n",
    "CVA is a component in Genomics England interpretation platform. The components within this interpretation platform share a lingua franca described in the Genomics England data models, https://gelreportmodels.genomicsengland.co.uk/. This will be a useful reference manual for the data that is served by CVA.\n",
    "\n",
    "CVA relies on three external systems:\n",
    "* The interpretation API as a data provider (also known as the CIPAPI)\n",
    "* Cellbase as a knowledge base of biological information, variant and gene annotations are obtained from Cellbase\n",
    "* An authentication mechanism which can be either LDAP or Active Directory\n",
    "\n",
    "![Interpretation Platform](figures/interpretation_platform.png)\n",
    "\n",
    "The interpretation API sends to CVA 4 pieces of data:\n",
    "* The clinical data (pedigree, phenotypes, clinical indications, etc.). This data is pseudoanonymised.\n",
    "* Interpreted genomes which are the result of automated variant prioritisations.\n",
    "* Clinical reports which are the result of variant selection through a Decision Support System (DSS)\n",
    "* Exit questionnaires which have the final classifications of variants and the final status of any given case.\n",
    "\n",
    "\n",
    "## The CVA client: pyark\n",
    "\n",
    "Pyark is a python client to the Clinical Variant Ark (CVA) REST API. The aim of pyark is to provide easy and flexible access to the CVA dataset and enable an analytical framework. While the CVA portal aims to cover a particular use case which is helping solve cases by using existing knowledge in CVA, the aim of pyark is less precise and as such this guide will not cover everything that could be done using pyark. \n",
    "\n",
    "For a complete guide of CVA REST API please refer to the swagger documentation available in http://your.cva.server/cva/docs.\n",
    "\n",
    "### <a href='client_initialisation.html'>Initialising the client</a>\n",
    "### <a href='fetching_primary_entities.html'>Fetching primary entities</a>\n",
    "### <a href='fetching_secondary_entities.html'>Fetching secondary entities</a>\n",
    "### <a href='search.html'>Search and filter</a>\n",
    "### <a href='cohort_selection.html'>Cohort selection</a>"
   ]
  },
  {
   "cell_type": "code",
   "execution_count": null,
   "metadata": {
    "hidden": true
   },
   "outputs": [],
   "source": []
  }
 ],
 "metadata": {
  "kernelspec": {
   "display_name": "virtualenvs-python36",
   "language": "python",
   "name": "virtualenvs-python36"
  },
  "language_info": {
   "codemirror_mode": {
    "name": "ipython",
    "version": 3
   },
   "file_extension": ".py",
   "mimetype": "text/x-python",
   "name": "python",
   "nbconvert_exporter": "python",
   "pygments_lexer": "ipython3",
   "version": "3.6.6"
  },
  "toc": {
   "base_numbering": 1,
   "nav_menu": {},
   "number_sections": true,
   "sideBar": true,
   "skip_h1_title": true,
   "title_cell": "The Clinical Variant Ark client: pyark",
   "title_sidebar": "Contents",
   "toc_cell": true,
   "toc_position": {},
   "toc_section_display": true,
   "toc_window_display": true
  }
 },
 "nbformat": 4,
 "nbformat_minor": 1
}
