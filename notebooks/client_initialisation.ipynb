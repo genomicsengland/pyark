{
 "cells": [
  {
   "cell_type": "markdown",
   "metadata": {
    "toc": true
   },
   "source": [
    "<h1>Initialising the client<span class=\"tocSkip\"></span></h1>\n",
    "<div class=\"toc\"><ul class=\"toc-item\"><li><span><a href=\"#Makes-all-necessary-imports-and-initialise-the-Python-CVA-client\" data-toc-modified-id=\"Makes-all-necessary-imports-and-initialise-the-Python-CVA-client-1\"><span class=\"toc-item-num\">1&nbsp;&nbsp;</span>Makes all necessary imports and initialise the Python CVA client</a></span></li><li><span><a href=\"#Count-number-of-primary-elements-in-CVA\" data-toc-modified-id=\"Count-number-of-primary-elements-in-CVA-2\"><span class=\"toc-item-num\">2&nbsp;&nbsp;</span>Count number of primary elements in CVA</a></span></li></ul></div>"
   ]
  },
  {
   "cell_type": "markdown",
   "metadata": {},
   "source": [
    "## Makes all necessary imports and initialise the Python CVA client\n",
    "\n",
    "When initialising the client it is handy to set the log level to INFO in order to see the times that each query takes and how the URL is built.\n",
    "\n",
    "We will be importing some system libraries, the Pandas library which is used by pyark and will be explained later, some entities available in the Genomics England models in the package `protocols` and finally the `pyark` client."
   ]
  },
  {
   "cell_type": "code",
   "execution_count": 1,
   "metadata": {},
   "outputs": [],
   "source": [
    "import getpass\n",
    "import logging\n",
    "import os\n",
    "import sys\n",
    "import pandas as pd\n",
    "from collections import defaultdict, OrderedDict\n",
    "import pyark\n",
    "from pyark.cva_client import CvaClient\n",
    "from protocols.protocol_7_2.reports import Program, Tier, Assembly\n",
    "from protocols.protocol_7_2.cva import ReportEventType\n",
    "\n",
    "# sets logging messages so the URLs that are called get printed\n",
    "logging.basicConfig(level=logging.INFO)"
   ]
  },
  {
   "cell_type": "markdown",
   "metadata": {},
   "source": [
    "You need three things to initialise pyark: the CVA backend URL, your user name and your password. In this example these are loaded from environment variables.\n",
    "\n",
    "The client gets a token which will contain your authorisation level. The token renews automatically if necessary. The client will also make retries in case of request failures."
   ]
  },
  {
   "cell_type": "code",
   "execution_count": 2,
   "metadata": {},
   "outputs": [
    {
     "name": "stderr",
     "output_type": "stream",
     "text": [
      "INFO:root:POST https://bio-test-cva.gel.zone/cva/api/0/authentication?\n",
      "INFO:root:Response time : 16 ms\n"
     ]
    }
   ],
   "source": [
    "# initialise CVA client and subclients\n",
    "# every subclient provides access to different sets of data exposed in the API\n",
    "user = os.environ.get(\"CVA_USER\")\n",
    "password = os.environ.get(\"CVA_PASS\")\n",
    "url = os.environ.get(\"CVA_URL_BASE\", \"http://localhost:8090\")\n",
    "cva = CvaClient(url_base=url, user=user, password=password)"
   ]
  },
  {
   "cell_type": "markdown",
   "metadata": {},
   "source": [
    "Once the token is obtained we will have available a number of different subclients, each of those providing access to a different CVA entity or functionality."
   ]
  },
  {
   "cell_type": "code",
   "execution_count": 3,
   "metadata": {},
   "outputs": [],
   "source": [
    "cases_client = cva.cases()\n",
    "pedigrees_client = cva.pedigrees()\n",
    "entities_client = cva.entities()\n",
    "variants_client = cva.variants()\n",
    "report_events_client = cva.report_events()\n",
    "transactions_client = cva.transactions()"
   ]
  },
  {
   "cell_type": "markdown",
   "metadata": {},
   "source": [
    "Check the version of your client as follows."
   ]
  },
  {
   "cell_type": "code",
   "execution_count": 4,
   "metadata": {},
   "outputs": [
    {
     "name": "stdout",
     "output_type": "stream",
     "text": [
      "pyark version 4.0.4\n"
     ]
    }
   ],
   "source": [
    "print(\"pyark version {}\".format(pyark.VERSION))"
   ]
  },
  {
   "cell_type": "markdown",
   "metadata": {},
   "source": [
    "## Count number of primary elements in CVA\n",
    "\n",
    "As the simplest usage example we can count the number of entities in CVA."
   ]
  },
  {
   "cell_type": "code",
   "execution_count": 5,
   "metadata": {},
   "outputs": [
    {
     "name": "stderr",
     "output_type": "stream",
     "text": [
      "INFO:root:GET https://bio-test-cva.gel.zone/cva/api/0/cases?count=True\n",
      "INFO:root:Response time : 766 ms\n"
     ]
    },
    {
     "data": {
      "text/plain": [
       "30601"
      ]
     },
     "execution_count": 5,
     "metadata": {},
     "output_type": "execute_result"
    }
   ],
   "source": [
    "# we can count the total number of cases\n",
    "cases_client.count()"
   ]
  },
  {
   "cell_type": "code",
   "execution_count": 6,
   "metadata": {},
   "outputs": [
    {
     "name": "stderr",
     "output_type": "stream",
     "text": [
      "INFO:root:GET https://bio-test-cva.gel.zone/cva/api/0/cases?program=rare_disease&panelNames=intellectual disability&count=True\n",
      "INFO:root:Response time : 93 ms\n"
     ]
    },
    {
     "data": {
      "text/plain": [
       "9779"
      ]
     },
     "execution_count": 6,
     "metadata": {},
     "output_type": "execute_result"
    }
   ],
   "source": [
    "# or we can count the number of cases given some criteria\n",
    "cases_client.count(program=Program.rare_disease, panelNames='intellectual disability')"
   ]
  },
  {
   "cell_type": "code",
   "execution_count": 7,
   "metadata": {},
   "outputs": [
    {
     "name": "stderr",
     "output_type": "stream",
     "text": [
      "INFO:root:GET https://bio-test-cva.gel.zone/cva/api/0/report-events?count=True\n",
      "INFO:root:Response time : 9718 ms\n"
     ]
    },
    {
     "data": {
      "text/plain": [
       "36291592"
      ]
     },
     "execution_count": 7,
     "metadata": {},
     "output_type": "execute_result"
    }
   ],
   "source": [
    "# count the total number of report events\n",
    "report_events_client.count()"
   ]
  },
  {
   "cell_type": "code",
   "execution_count": 8,
   "metadata": {},
   "outputs": [
    {
     "name": "stderr",
     "output_type": "stream",
     "text": [
      "INFO:root:GET https://bio-test-cva.gel.zone/cva/api/0/report-events?program=rare_disease&type=questionnaire&count=True\n",
      "INFO:root:Response time : 30 ms\n"
     ]
    },
    {
     "data": {
      "text/plain": [
       "3088"
      ]
     },
     "execution_count": 8,
     "metadata": {},
     "output_type": "execute_result"
    }
   ],
   "source": [
    "# count the number of report events given some criteria\n",
    "report_events_client.count(program=Program.rare_disease, type=\"questionnaire\")"
   ]
  },
  {
   "cell_type": "code",
   "execution_count": 9,
   "metadata": {},
   "outputs": [
    {
     "name": "stderr",
     "output_type": "stream",
     "text": [
      "INFO:root:GET https://bio-test-cva.gel.zone/cva/api/0/variants?count=True\n",
      "INFO:root:Response time : 869 ms\n"
     ]
    },
    {
     "data": {
      "text/plain": [
       "3263870"
      ]
     },
     "execution_count": 9,
     "metadata": {},
     "output_type": "execute_result"
    }
   ],
   "source": [
    "# count the total number of variants\n",
    "variants_client.count()"
   ]
  },
  {
   "cell_type": "code",
   "execution_count": 10,
   "metadata": {},
   "outputs": [
    {
     "name": "stderr",
     "output_type": "stream",
     "text": [
      "INFO:root:GET https://bio-test-cva.gel.zone/cva/api/0/variants?count=True&assembly=GRCh38&geneSymbols=BRCA2\n",
      "INFO:root:Response time : 32 ms\n"
     ]
    },
    {
     "data": {
      "text/plain": [
       "863"
      ]
     },
     "execution_count": 10,
     "metadata": {},
     "output_type": "execute_result"
    }
   ],
   "source": [
    "# count the number of variants given some criteria\n",
    "variants_client.count(assembly=Assembly.GRCh38, geneSymbols=\"BRCA2\")"
   ]
  }
 ],
 "metadata": {
  "kernelspec": {
   "display_name": "virtualenvs-python36",
   "language": "python",
   "name": "virtualenvs-python36"
  },
  "language_info": {
   "codemirror_mode": {
    "name": "ipython",
    "version": 3
   },
   "file_extension": ".py",
   "mimetype": "text/x-python",
   "name": "python",
   "nbconvert_exporter": "python",
   "pygments_lexer": "ipython3",
   "version": "3.6.6"
  },
  "toc": {
   "base_numbering": 1,
   "nav_menu": {},
   "number_sections": true,
   "sideBar": true,
   "skip_h1_title": true,
   "title_cell": "Initialising the client",
   "title_sidebar": "Contents",
   "toc_cell": true,
   "toc_position": {},
   "toc_section_display": true,
   "toc_window_display": true
  }
 },
 "nbformat": 4,
 "nbformat_minor": 2
}
